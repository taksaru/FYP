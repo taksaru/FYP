{
 "cells": [
  {
   "cell_type": "markdown",
   "metadata": {
    "deletable": true,
    "editable": true
   },
   "source": [
    "# Analysis"
   ]
  },
  {
   "cell_type": "code",
   "execution_count": 1,
   "metadata": {
    "collapsed": true,
    "deletable": true,
    "editable": true
   },
   "outputs": [],
   "source": [
    "import numpy as np\n",
    "import pandas as pd"
   ]
  },
  {
   "cell_type": "code",
   "execution_count": 2,
   "metadata": {
    "collapsed": false,
    "deletable": true,
    "editable": true
   },
   "outputs": [],
   "source": [
    "# Scikit learn imports\n",
    "from sklearn.linear_model import LogisticRegression\n",
    "from sklearn.linear_model import LogisticRegressionCV\n",
    "from sklearn.neighbors import KNeighborsClassifier\n",
    "from sklearn.model_selection import GridSearchCV\n",
    "from sklearn.metrics import accuracy_score\n",
    "from sklearn.metrics import precision_score\n",
    "from sklearn.metrics import recall_score\n",
    "from sklearn.metrics import f1_score\n",
    "from sklearn.preprocessing import StandardScaler\n",
    "from sklearn.pipeline import Pipeline\n",
    "from sklearn.dummy import DummyClassifier\n",
    "from sklearn.metrics import confusion_matrix"
   ]
  },
  {
   "cell_type": "code",
   "execution_count": 3,
   "metadata": {
    "collapsed": true,
    "deletable": true,
    "editable": true
   },
   "outputs": [],
   "source": [
    "def dataPrep(df, winner, user):\n",
    "    a = 1\n",
    "    b = 0\n",
    "    df = df[df['rating'] != 0].copy()\n",
    "    df = df[df['username'] != user].copy()\n",
    "    if winner:\n",
    "        a = 0\n",
    "        b = 1\n",
    "    # 1 if supporting winner\n",
    "    df['result'] = a\n",
    "    df.loc[df.rating < 0, 'result'] = b\n",
    "    df = df.drop(['id', 'text', 'username', 'date'], axis=1)\n",
    "    df.reset_index(inplace=False)\n",
    "    return df\n",
    "\n",
    "def performanceMetrics(y, predicted_y):\n",
    "    accuracy = accuracy_score(y, y_predicted)\n",
    "    cm = confusion_matrix(y, y_predicted)\n",
    "    \n",
    "    # Accuracy\n",
    "    print 'Accuracy: %s' % accuracy_score(y, y_predicted)\n",
    "    # True Positives\n",
    "    print 'True Positive Rate: %s' % (cm[1,1]*1.0/(cm[1,0] + cm[1,1]))\n",
    "    # False Positives\n",
    "    print 'False Positive Rate: %s' % (cm[0,1]*1.0/(cm[0,0] + cm[0,1]))\n",
    "    # Precision\n",
    "    print 'Precision: %s'% precision_score(y, y_predicted)\n",
    "    # Recall\n",
    "    print 'Recall: %s'% recall_score(y, y_predicted)\n",
    "    # F1\n",
    "    print 'F1: %s'% f1_score(y, y_predicted)"
   ]
  },
  {
   "cell_type": "code",
   "execution_count": 4,
   "metadata": {
    "collapsed": false,
    "deletable": true,
    "editable": true,
    "scrolled": false
   },
   "outputs": [
    {
     "data": {
      "text/plain": [
       "n_words       int64\n",
       "p_words       int64\n",
       "rating      float64\n",
       "retweets      int64\n",
       "result        int64\n",
       "dtype: object"
      ]
     },
     "execution_count": 4,
     "metadata": {},
     "output_type": "execute_result"
    }
   ],
   "source": [
    "obama1DF = dataPrep(pd.read_csv('obama1.csv'), True, 'BarackObama')\n",
    "mccainDF = dataPrep(pd.read_csv('mccain.csv'), False, 'SenJohnMcCain')\n",
    "palinDF = dataPrep(pd.read_csv('palin.csv'), False, 'SarahPalinUSA')\n",
    "obama2DF = dataPrep(pd.read_csv('obama2.csv'), True, 'BarackObama')\n",
    "romneyDF = dataPrep(pd.read_csv('romney.csv'), False, 'MittRomney')\n",
    "trumpDF = dataPrep(pd.read_csv('trump.csv'), True, 'realDonaldTrump')\n",
    "clintonDF = dataPrep(pd.read_csv('clinton.csv'), False, 'HillaryClinton')\n",
    "\n",
    "e1 = obama1DF.append(mccainDF)\n",
    "e2 = obama2DF.append(romneyDF)\n",
    "e3 = trumpDF.append(clintonDF)\n",
    "\n",
    "mccainDF.describe(include='all')\n",
    "mccainDF.dtypes"
   ]
  },
  {
   "cell_type": "code",
   "execution_count": 5,
   "metadata": {
    "collapsed": false,
    "deletable": true,
    "editable": true
   },
   "outputs": [],
   "source": [
    "# Using previous elections as training set\n",
    "X = e1[['p_words', 'n_words', 'rating', 'retweets']].values\n",
    "y = e1['result'].values\n",
    "\n",
    "X2 = e2[['p_words', 'n_words', 'rating', 'retweets']].values\n",
    "y2 = e2['result'].values\n",
    "\n",
    "X3 = e3[['p_words', 'n_words', 'rating', 'retweets']].values\n",
    "y3 = e3['result'].values\n",
    "\n",
    "X = StandardScaler().fit(X).transform(X)\n",
    "X2 = StandardScaler().fit(X2).transform(X2)\n",
    "X3 = StandardScaler().fit(X3).transform(X3)"
   ]
  },
  {
   "cell_type": "markdown",
   "metadata": {
    "deletable": true,
    "editable": true
   },
   "source": [
    "# Attempting to Predict Obama's 2nd Election"
   ]
  },
  {
   "cell_type": "code",
   "execution_count": 10,
   "metadata": {
    "collapsed": false,
    "deletable": true,
    "editable": true
   },
   "outputs": [
    {
     "name": "stdout",
     "output_type": "stream",
     "text": [
      "Logistic Regression\n",
      "Accuracy: 0.517285128215\n",
      "True Positive Rate: 0.145253456221\n",
      "False Positive Rate: 0.107103642082\n",
      "Precision: 0.577924459113\n",
      "Recall: 0.145253456221\n",
      "F1: 0.232157324888\n",
      "Majority Classifier\n",
      "Accuracy: 0.497606104665\n"
     ]
    }
   ],
   "source": [
    "estimator = LogisticRegression()\n",
    "\n",
    "majClassifier = DummyClassifier(strategy='most_frequent')\n",
    "# Use the learned model to predict on the same examples\n",
    "\n",
    "print 'Logistic Regression'\n",
    "estimator.fit(X, y)\n",
    "y_predicted = estimator.predict(X2)\n",
    "performanceMetrics(y2, y_predicted)\n",
    "\n",
    "print 'Majority Classifier'\n",
    "majClassifier.fit(X, y)\n",
    "\n",
    "y_predicted = majClassifier.predict(X2)\n",
    "print 'Accuracy: %s' % accuracy_score(y_predicted, y2)\n",
    "\n"
   ]
  },
  {
   "cell_type": "code",
   "execution_count": 7,
   "metadata": {
    "collapsed": false,
    "deletable": true,
    "editable": true
   },
   "outputs": [
    {
     "name": "stdout",
     "output_type": "stream",
     "text": [
      "Logistic Regression\n",
      "Accuracy: 0.574868398444\n",
      "True Positive Rate: 0.49701526618\n",
      "False Positive Rate: 0.353595300183\n",
      "Precision: 0.563615514084\n",
      "Recall: 0.49701526618\n",
      "F1: 0.528224373586\n",
      "Majority Classifier\n",
      "Accuracy: 0.478857839079\n",
      "Lasso\n",
      "Accuracy: 0.574868398444\n",
      "True Positive Rate: 0.49701526618\n",
      "False Positive Rate: 0.353595300183\n",
      "Precision: 0.563615514084\n",
      "Recall: 0.49701526618\n",
      "F1: 0.528224373586\n",
      "Ridge\n",
      "Accuracy: 0.574868398444\n",
      "True Positive Rate: 0.49701526618\n",
      "False Positive Rate: 0.353595300183\n",
      "Precision: 0.563615514084\n",
      "Recall: 0.49701526618\n",
      "F1: 0.528224373586\n"
     ]
    }
   ],
   "source": [
    "estimator = LogisticRegression()\n",
    "\n",
    "estimator.fit(X, y)\n",
    "estimator.fit(X2, y2)\n",
    "print 'Logistic Regression'\n",
    "y_predicted = estimator.predict(X3)\n",
    "performanceMetrics(y3, y_predicted)\n",
    "\n",
    "majClassifier = DummyClassifier(strategy='most_frequent')\n",
    "# Use the learned model to predict on the same examples\n",
    "\n",
    "print 'Majority Classifier'\n",
    "majClassifier.fit(X, y)\n",
    "majClassifier.fit(X2, y2)\n",
    "y_predicted = majClassifier.predict(X3)\n",
    "print 'Accuracy: %s' % accuracy_score(y3, y_predicted)\n",
    "\n",
    "lasso = LogisticRegressionCV(Cs=[1,2,3,4,5,6,7,8,9,10], penalty='l1',\n",
    "                            solver='liblinear', cv=10)\n",
    "lasso.fit(X, y)\n",
    "lasso.fit(X2, y2)\n",
    "print 'Lasso'\n",
    "y_predicted = lasso.predict(X3)\n",
    "performanceMetrics(y3, y_predicted)\n",
    "\n",
    "ridge = LogisticRegressionCV(Cs=[1,2,3,4,5,6,7,8,9,10], \n",
    "                             solver='liblinear', cv=10)\n",
    "ridge.fit(X, y)\n",
    "ridge.fit(X2, y2)\n",
    "print 'Ridge'\n",
    "y_predicted = ridge.predict(X3)\n",
    "performanceMetrics(y3, y_predicted)"
   ]
  },
  {
   "cell_type": "code",
   "execution_count": null,
   "metadata": {
    "collapsed": true,
    "deletable": true,
    "editable": true
   },
   "outputs": [],
   "source": []
  },
  {
   "cell_type": "code",
   "execution_count": null,
   "metadata": {
    "collapsed": true
   },
   "outputs": [],
   "source": []
  }
 ],
 "metadata": {
  "kernelspec": {
   "display_name": "Python 2",
   "language": "python",
   "name": "python2"
  },
  "language_info": {
   "codemirror_mode": {
    "name": "ipython",
    "version": 2
   },
   "file_extension": ".py",
   "mimetype": "text/x-python",
   "name": "python",
   "nbconvert_exporter": "python",
   "pygments_lexer": "ipython2",
   "version": "2.7.12"
  }
 },
 "nbformat": 4,
 "nbformat_minor": 2
}
